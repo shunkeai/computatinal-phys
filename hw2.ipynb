{
 "cells": [
  {
   "cell_type": "code",
   "execution_count": 1,
   "metadata": {},
   "outputs": [],
   "source": [
    "import numpy as np\n",
    "import pylab as p \n",
    "\n",
    "def solve_quad(a,b,c):\n",
    "    x1=(-b+np.sqrt(b**2-4*a*c))/(2*a)\n",
    "    x2=(-b-np.sqrt(b**2-4*a*c))/(2*a)\n",
    "    x1_p=(-2*c)/(b+np.sqrt(b**2-4*a*c))\n",
    "    x2_p=(-2*c)/(b-np.sqrt(b**2-4*a*c))\n",
    "    return x1,x2,x1_p,x2_p\n",
    "\n"
   ]
  },
  {
   "cell_type": "code",
   "execution_count": 2,
   "metadata": {},
   "outputs": [
    {
     "name": "stdout",
     "output_type": "stream",
     "text": [
      "c= 0.1\n",
      "x1_sc= -0.1127016653792583 x1_precise= -0.11270166537925831\n",
      "x2_sc= -0.8872983346207418 x2_precise= -0.8872983346207417\n",
      "x1_err= 1.23137380100938e-16\n",
      "x2_err= 1.2512398381765246e-16\n",
      "-----------------------------------------------------\n",
      "c= 0.01\n",
      "x1_sc= -0.010102051443364402 x1_precise= -0.01010205144336438\n",
      "x2_sc= -0.9898979485566336 x2_precise= -0.9898979485566356\n",
      "x1_err= 2.060639052218973e-15\n",
      "x2_err= 2.0187954195067675e-15\n",
      "-----------------------------------------------------\n",
      "c= 0.001\n",
      "x1_sc= -0.0010010020050140178 x1_precise= -0.001001002005014042\n",
      "x2_sc= -0.9989989979950102 x2_precise= -0.998998997994986\n",
      "x1_err= 2.4261818200188932e-14\n",
      "x2_err= 2.4227113325843282e-14\n",
      "-----------------------------------------------------\n",
      "c= 0.0001\n",
      "x1_sc= -0.00010001000200049459 x1_precise= -0.00010001000200050015\n",
      "x2_sc= -0.9998999899980551 x2_precise= -0.9998999899979994\n",
      "x1_err= 5.555980424798334e-14\n",
      "x2_err= 5.562773686379538e-14\n",
      "-----------------------------------------------------\n",
      "c= 1e-05\n",
      "x1_sc= -1.0000100002016676e-05 x1_precise= -1.000010000200005e-05\n",
      "x2_sc= -0.9999899998983355 x2_precise= -0.9999899998999979\n",
      "x1_err= 1.662539643141793e-12\n",
      "x2_err= 1.6624645818857782e-12\n",
      "-----------------------------------------------------\n",
      "c= 1e-06\n",
      "x1_sc= -1.000001000006634e-06 x1_precise= -1.000001000002e-06\n",
      "x2_sc= -0.999998999994366 x2_precise= -0.999998999999\n",
      "x1_err= 4.633900862281333e-12\n",
      "x2_err= 4.633964516452091e-12\n",
      "-----------------------------------------------------\n",
      "c= 1e-07\n",
      "x1_sc= -1.0000000999488279e-07 x1_precise= -1.00000010000002e-07\n",
      "x2_sc= -0.9999999000511821 x2_precise= -0.99999989999999\n",
      "x1_err= 5.1192151583771564e-11\n",
      "x2_err= 5.119216674007823e-11\n",
      "-----------------------------------------------------\n",
      "c= 1e-08\n",
      "x1_sc= -1.0000000105758744e-08 x1_precise= -1.0000000100000004e-08\n",
      "x2_sc= -0.9999999894241257 x2_precise= -0.9999999899999998\n",
      "x1_err= 5.758740377139392e-10\n",
      "x2_err= 5.758741319217421e-10\n",
      "-----------------------------------------------------\n",
      "c= 1e-09\n",
      "x1_sc= -1.0000000272292198e-09 x1_precise= -1.0000000010000002e-09\n",
      "x2_sc= -0.999999972770781 x2_precise= -0.9999999989999999\n",
      "x1_err= 2.6229219530110448e-08\n",
      "x2_err= 2.622921893416528e-08\n",
      "-----------------------------------------------------\n",
      "c= 1e-10\n",
      "x1_sc= -1.000000082740371e-10 x1_precise= -1.0000000001000001e-10\n",
      "x2_sc= -0.9999999172596359 x2_precise= -0.9999999999\n",
      "x1_err= 8.264037089294409e-08\n",
      "x2_err= 8.264036411569762e-08\n",
      "-----------------------------------------------------\n",
      "c= 1e-11\n",
      "x1_sc= -1.000000082740371e-11 x1_precise= -1.00000000001e-11\n",
      "x2_sc= -0.9999999172596358 x2_precise= -0.99999999999\n",
      "x1_err= 8.273037105908346e-08\n",
      "x2_err= 8.273036422672982e-08\n",
      "-----------------------------------------------------\n",
      "c= 1e-12\n",
      "x1_sc= -1.0000333894311098e-12 x1_precise= -1.000000000001e-12\n",
      "x2_sc= -0.9999666116837072 x2_precise= -0.9999999999989999\n",
      "x1_err= 3.338943010969207e-05\n",
      "x2_err= 3.338831529279282e-05\n",
      "-----------------------------------------------------\n",
      "c= 1e-13\n",
      "x1_sc= -1.000310945187266e-13 x1_precise= -1.0000000000001001e-13\n",
      "x2_sc= -0.9996891514695885 x2_precise= -0.9999999999999\n",
      "x1_err= 0.0003109451871658907\n",
      "x2_err= 0.00031084853031152274\n",
      "-----------------------------------------------------\n",
      "c= 1e-14\n",
      "x1_sc= -9.992007221626409e-15 x1_precise= -1.00000000000001e-14\n",
      "x2_sc= -1.0007999171934436 x2_precise= -0.99999999999999\n",
      "x1_err= 0.0007992778373690442\n",
      "x2_err= 0.0007999171934536334\n",
      "-----------------------------------------------------\n",
      "c= 1e-15\n",
      "x1_sc= -9.992007221626409e-16 x1_precise= -1.000000000000001e-15\n",
      "x2_sc= -1.0007999171934436 x2_precise= -0.999999999999999\n",
      "x1_err= 0.0007992778373601766\n",
      "x2_err= 0.0007999171934446333\n",
      "-----------------------------------------------------\n",
      "c= 1e-16\n",
      "x1_sc= -1.1102230246251565e-16 x1_precise= -1.0000000000000001e-16\n",
      "x2_sc= -0.9007199254740992 x2_precise= -0.9999999999999999\n",
      "x1_err= 0.11022302462515643\n",
      "x2_err= 0.09928007452590072\n",
      "-----------------------------------------------------\n"
     ]
    },
    {
     "data": {
      "image/png": "[encoded data removed]",
      "text/plain": [
       "<Figure size 432x288 with 1 Axes>"
      ]
     },
     "metadata": {
      "needs_background": "light"
     },
     "output_type": "display_data"
    },
    {
     "data": {
      "image/png": "[encoded data removed]",
      "text/plain": [
       "<Figure size 432x288 with 1 Axes>"
      ]
     },
     "metadata": {
      "needs_background": "light"
     },
     "output_type": "display_data"
    }
   ],
   "source": [
    "import numpy as np\n",
    "import pylab as p \n",
    "\n",
    "\n",
    "\n",
    "x1_err=[]\n",
    "x2_err=[]\n",
    "c=[]\n",
    "for i in np.arange(1.0,17):\n",
    "    c.append(10**(-i))\n",
    "    print('c=',c[-1])\n",
    "    [x1,x2,x1_p,x2_p]=solve_quad(1,1,c[-1])\n",
    "    x1_sc=x1                     # solution with subtractive cancelation\n",
    "    x1_precise=x1_p\n",
    "    x2_sc=x2_p                   # solution with subtractive cancelation\n",
    "    x2_precise=x2\n",
    "    \n",
    "    x1_err.append(np.abs((x1_sc-x1_precise)/x1_precise))   #calculate relative error\n",
    "    x2_err.append(np.abs((x2_sc-x2_precise)/x2_precise))\n",
    "    print('x1_sc=',x1_sc,'x1_precise=',x1_precise)\n",
    "    print('x2_sc=',x2_sc,'x2_precise=',x2_precise)\n",
    "    print('x1_err=',x1_err[-1])\n",
    "    print('x2_err=',x2_err[-1])\n",
    "    print('-----------------------------------------------------')\n",
    "p.plot(c,x1_err,'k',label='x1_err')\n",
    "p.xscale('log')\n",
    "p.yscale('log')\n",
    "p.legend()\n",
    "p.show()\n",
    "p.plot(c,x2_err,label='x2_err')\n",
    "p.xscale('log')\n",
    "p.yscale('log')\n",
    "p.legend()\n",
    "p.show()"
   ]
  },
  {
   "cell_type": "code",
   "execution_count": 3,
   "metadata": {
    "scrolled": true
   },
   "outputs": [
    {
     "name": "stdout",
     "output_type": "stream",
     "text": [
      "c= 1e-16\n",
      "x1= -1.0000000000000001e-16 x2= -0.9999999999999999\n",
      "c= 1e-15\n",
      "x1= -1.000000000000001e-15 x2= -0.999999999999999\n",
      "c= 1e-14\n",
      "x1= -1.00000000000001e-14 x2= -0.99999999999999\n",
      "c= 1e-13\n",
      "x1= -1.0000000000001001e-13 x2= -0.9999999999999\n",
      "c= 1e-12\n",
      "x1= -1.000000000001e-12 x2= -0.9999999999989999\n",
      "c= 1e-11\n",
      "x1= -1.00000000001e-11 x2= -0.99999999999\n",
      "c= 1e-10\n",
      "x1= -1.0000000001000001e-10 x2= -0.9999999999\n",
      "c= 1e-09\n",
      "x1= -1.0000000010000002e-09 x2= -0.9999999989999999\n",
      "c= 1e-08\n",
      "x1= -1.0000000100000004e-08 x2= -0.9999999899999998\n",
      "c= 1e-07\n",
      "x1= -1.00000010000002e-07 x2= -0.99999989999999\n",
      "c= 1e-06\n",
      "x1= -1.000001000002e-06 x2= -0.999998999999\n",
      "c= 1e-05\n",
      "x1= -1.000010000200005e-05 x2= -0.9999899998999979\n",
      "c= 0.0001\n",
      "x1= -0.00010001000200050015 x2= -0.9998999899979994\n",
      "c= 0.001\n",
      "x1= -0.001001002005014042 x2= -0.998998997994986\n",
      "c= 0.01\n",
      "x1= -0.01010205144336438 x2= -0.9898979485566356\n",
      "c= 0.1\n",
      "x1= -0.11270166537925831 x2= -0.8872983346207417\n"
     ]
    }
   ],
   "source": [
    "import numpy as np\n",
    "import pylab as p \n",
    "\n",
    "########################precise solution##################\n",
    "def solve_quad(a,b,c):\n",
    "    x1=(-b+np.sqrt(b**2-4*a*c))/(2*a)\n",
    "    x2=(-b-np.sqrt(b**2-4*a*c))/(2*a)\n",
    "    x1_p=(-2*c)/(b+np.sqrt(b**2-4*a*c))\n",
    "    x2_p=(-2*c)/(b-np.sqrt(b**2-4*a*c))\n",
    "    if b>=0:\n",
    "        x1=x1_p\n",
    "        x2=x2\n",
    "    else:\n",
    "        x1=x1\n",
    "        x2=x2_p\n",
    "    return x1,x2\n",
    "c=[]\n",
    "for i in np.arange(-16.0,0):\n",
    "    c.append(10**(i))\n",
    "    print('c=',c[-1])\n",
    "    [x1,x2]=solve_quad(1,1,c[-1])\n",
    "    x1_err.append(np.abs((x1-x1_p)/x1_p))\n",
    "    x2_err.append(np.abs((x2-x2_p)/x2))\n",
    "    print('x1=',x1,'x2=',x2)"
   ]
  },
  {
   "cell_type": "code",
   "execution_count": null,
   "metadata": {
    "scrolled": true
   },
   "outputs": [],
   "source": []
  }
 ],
 "metadata": {
  "kernelspec": {
   "display_name": "Python 3",
   "language": "python",
   "name": "python3"
  },
  "language_info": {
   "codemirror_mode": {
    "name": "ipython",
    "version": 3
   },
   "file_extension": ".py",
   "mimetype": "text/x-python",
   "name": "python",
   "nbconvert_exporter": "python",
   "pygments_lexer": "ipython3",
   "version": "3.7.3"
  }
 },
 "nbformat": 4,
 "nbformat_minor": 2
}
