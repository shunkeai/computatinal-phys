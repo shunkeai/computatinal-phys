{
 "cells": [
  {
   "cell_type": "code",
   "execution_count": 4,
   "metadata": {},
   "outputs": [],
   "source": [
    "import numpy as np\n",
    "import matplotlib.pyplot as plt\n",
    "def f1(x1,x2):\n",
    "    return (x1**2+x1*x2-10)\n",
    "def f2(x1,x2):\n",
    "    return (x2+3*x1*x2**2-57)\n",
    "def partial_diff(x1,x2,dx,f,variable):     #define a function to calculate partial differential \n",
    "    if variable == 'x1':                   #variable= 'x1' or 'x2'\n",
    "        diff=(f(x1+dx/2.,x2)-f(x1-dx/2.,x2))/dx\n",
    "    if variable == 'x2':\n",
    "        diff=(f(x1,x2+dx/2.)-f(x1,x2-dx/2.))/dx\n",
    "    return diff\n",
    "#diff=partial_diff(1,2,1e-6,f1,'x2')"
   ]
  },
  {
   "cell_type": "code",
   "execution_count": 5,
   "metadata": {},
   "outputs": [
    {
     "data": {
      "image/png": "[encoded data removed]",
      "text/plain": [
       "<Figure size 432x288 with 1 Axes>"
      ]
     },
     "metadata": {
      "needs_background": "light"
     },
     "output_type": "display_data"
    }
   ],
   "source": [
    "#Always good to plot the function first\n",
    "x1=np.arange(-5,20,0.01)\n",
    "x2=np.arange(-5,20,0.01)\n",
    "X1,X2 = np.meshgrid(x1,x2)\n",
    "F_1=f1(X1,X2)\n",
    "F_2=f2(X1,X2)\n",
    "plt.contour(X1,X2,F_1,0,colors='k')\n",
    "plt.contour(X1,X2,F_2,0,colors='b')\n",
    "plt.xlabel(r'$x_1$',fontsize=13)\n",
    "plt.ylabel(r'$x_2$',fontsize=13)\n",
    "plt.show()"
   ]
  },
  {
   "cell_type": "code",
   "execution_count": 6,
   "metadata": {},
   "outputs": [
    {
     "name": "stdout",
     "output_type": "stream",
     "text": [
      "The solution is x1= 1.9999998110161499 x2= 3.000000058050815\n"
     ]
    }
   ],
   "source": [
    "#############initial condition####################\n",
    "x1=1.0\n",
    "x2=1.0     #change the initial guess, get different final results (totally two solutions, as shown in the figure above). \n",
    "##################################################\n",
    "Nmax=100     #maximum loop number\n",
    "dx=1e-5\n",
    "eps=1e-5     #accuracy \n",
    "#################################################\n",
    "for i in range(0,Nmax):\n",
    "    a=partial_diff(x1, x2, dx, f1, 'x1')\n",
    "    b=partial_diff(x1, x2, dx, f1, 'x2')\n",
    "    c=partial_diff(x1, x2, dx, f2, 'x1')\n",
    "    d=partial_diff(x1, x2, dx, f2, 'x2')\n",
    "    f_1=f1(x1,x2)\n",
    "    f_2=f2(x1,x2)\n",
    "    delta_x1=(b*f_2 - d*f_1)/(a*d-b*c)\n",
    "    delta_x2=(c*f_1 - a*f_2)/(a*d-b*c)\n",
    "    \n",
    "    x1=x1+delta_x1\n",
    "    x2=x2+delta_x2\n",
    "    if np.abs(f1(x1,x2)) < eps and np.abs(f2(x1,x2)) < eps:\n",
    "        print('The solution is','x1=',x1,'x2=',x2)\n",
    "        break"
   ]
  },
  {
   "cell_type": "code",
   "execution_count": 7,
   "metadata": {},
   "outputs": [
    {
     "name": "stdout",
     "output_type": "stream",
     "text": [
      "The solution is x1= 4.393744194991157 x2= -2.1177810159520742\n"
     ]
    }
   ],
   "source": [
    "#############initial condition####################\n",
    "x1=6.0\n",
    "x2=-1.0     #change the initial guess, get different final results (totally two solutions, as shown in the figure above). \n",
    "##################################################\n",
    "Nmax=100     #maximum loop number\n",
    "dx=1e-5\n",
    "eps=1e-5     #accuracy \n",
    "#################################################\n",
    "for i in range(0,Nmax):\n",
    "    a=partial_diff(x1, x2, dx, f1, 'x1')\n",
    "    b=partial_diff(x1, x2, dx, f1, 'x2')\n",
    "    c=partial_diff(x1, x2, dx, f2, 'x1')\n",
    "    d=partial_diff(x1, x2, dx, f2, 'x2')\n",
    "    f_1=f1(x1,x2)\n",
    "    f_2=f2(x1,x2)\n",
    "    delta_x1=(b*f_2 - d*f_1)/(a*d-b*c)\n",
    "    delta_x2=(c*f_1 - a*f_2)/(a*d-b*c)\n",
    "    \n",
    "    x1=x1+delta_x1\n",
    "    x2=x2+delta_x2\n",
    "    if np.abs(f1(x1,x2)) < eps and np.abs(f2(x1,x2)) < eps:\n",
    "        print('The solution is','x1=',x1,'x2=',x2)\n",
    "        break\n",
    "#print(f1(1,1))"
   ]
  },
  {
   "cell_type": "code",
   "execution_count": 10,
   "metadata": {},
   "outputs": [
    {
     "name": "stdout",
     "output_type": "stream",
     "text": [
      "The solutions are [x1, x2]= [[4.393744408498281, -2.11778089460491], [2.00000000000335, 2.9999999999825038]]\n"
     ]
    }
   ],
   "source": [
    "#find all the solutions in x1~[x1_low,x2_up], x2~[x2_low,x2_up]\n",
    "x1_range=[-10.,10.]\n",
    "x2_range=[-10.,10.]\n",
    "\n",
    "solution=[]\n",
    "for x1 in np.arange(x1_range[0],x1_range[1],1.):\n",
    "    for x2 in np.arange(x2_range[0],x2_range[1],1.):\n",
    "        for i in range(0,Nmax):\n",
    "            a=partial_diff(x1, x2, dx, f1, 'x1')\n",
    "            b=partial_diff(x1, x2, dx, f1, 'x2')\n",
    "            c=partial_diff(x1, x2, dx, f2, 'x1')\n",
    "            d=partial_diff(x1, x2, dx, f2, 'x2')\n",
    "            f_1=f1(x1,x2)\n",
    "            f_2=f2(x1,x2)\n",
    "            delta_x1=(b*f_2 - d*f_1)/(a*d-b*c)\n",
    "            delta_x2=(c*f_1 - a*f_2)/(a*d-b*c)\n",
    "    \n",
    "            x1=x1+delta_x1\n",
    "            x2=x2+delta_x2\n",
    "            if np.abs(f1(x1,x2)) < eps and np.abs(f2(x1,x2)) < eps:\n",
    "                is_a_new_solution=1\n",
    "                if len(solution)==0:\n",
    "                    solution.append([x1,x2])\n",
    "                for i in range(len(solution)):\n",
    "                    if abs(x1-solution[i][0]) < eps and abs(x2-solution[i][1]) < eps:\n",
    "                        is_a_new_solution-=1\n",
    "                if is_a_new_solution == 1:\n",
    "                    solution.append([x1,x2])\n",
    "                break\n",
    "print('The solutions are [x1, x2]=',solution)"
   ]
  }
 ],
 "metadata": {
  "kernelspec": {
   "display_name": "Python 3",
   "language": "python",
   "name": "python3"
  },
  "language_info": {
   "codemirror_mode": {
    "name": "ipython",
    "version": 3
   },
   "file_extension": ".py",
   "mimetype": "text/x-python",
   "name": "python",
   "nbconvert_exporter": "python",
   "pygments_lexer": "ipython3",
   "version": "3.7.3"
  }
 },
 "nbformat": 4,
 "nbformat_minor": 2
}
